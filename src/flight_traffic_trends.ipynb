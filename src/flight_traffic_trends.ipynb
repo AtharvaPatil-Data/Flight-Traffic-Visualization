{
  "nbformat": 4,
  "nbformat_minor": 0,
  "metadata": {
    "colab": {
      "provenance": [],
      "gpuType": "V28"
    },
    "kernelspec": {
      "name": "python3",
      "display_name": "Python 3"
    },
    "language_info": {
      "name": "python"
    },
    "accelerator": "TPU"
  },
  "cells": [
    {
      "cell_type": "code",
      "source": [
        "from google.colab import drive\n",
        "drive.mount('/content/drive')"
      ],
      "metadata": {
        "colab": {
          "base_uri": "https://localhost:8080/"
        },
        "id": "-MDFdNXA7Xja",
        "outputId": "964201f5-ac14-419a-9af9-c69c03e50c9c"
      },
      "execution_count": null,
      "outputs": [
        {
          "output_type": "stream",
          "name": "stdout",
          "text": [
            "Mounted at /content/drive\n"
          ]
        }
      ]
    },
    {
      "cell_type": "code",
      "source": [
        "import pandas as pd\n",
        "import matplotlib.pyplot as plt\n",
        "import seaborn as sns"
      ],
      "metadata": {
        "id": "Otbba_nQVMmq"
      },
      "execution_count": null,
      "outputs": []
    },
    {
      "cell_type": "code",
      "source": [
        "#Loading the Dataset\n",
        "path_2015 = '/content/drive/MyDrive/sample dmv/2015.csv'\n",
        "path_2016 = '/content/drive/MyDrive/sample dmv/2016.csv'\n",
        "path_2017 = '/content/drive/MyDrive/sample dmv/2017.csv'\n",
        "path_2018 = '/content/drive/MyDrive/sample dmv/2018.csv'\n",
        "path_2019 = '/content/drive/MyDrive/sample dmv/2019.csv'\n",
        "\n",
        "\n",
        "data_2015 = pd.read_csv(path_2015)\n",
        "data_2016 = pd.read_csv(path_2016)\n",
        "data_2017 = pd.read_csv(path_2017)\n",
        "data_2018 = pd.read_csv(path_2018)\n",
        "data_2019 = pd.read_csv(path_2019)\n"
      ],
      "metadata": {
        "id": "9rWZ0sh1VSvW"
      },
      "execution_count": null,
      "outputs": []
    },
    {
      "cell_type": "code",
      "source": [
        "# Creating new column as Year\n",
        "data_2015['Year'] = 2015\n",
        "data_2016['Year'] = 2016\n",
        "data_2017['Year'] = 2017\n",
        "data_2018['Year'] = 2018\n",
        "data_2019['Year'] = 2019\n",
        "\n",
        "\n",
        "# Selecting relevant columns\n",
        "columns = ['FL_DATE', 'ORIGIN', 'DEST', 'ARR_DELAY', 'Year']\n",
        "\n",
        "\n",
        "data_2015 = data_2015[columns]\n",
        "data_2016 = data_2016[columns]\n",
        "data_2017 = data_2017[columns]\n",
        "data_2018 = data_2018[columns]\n",
        "data_2019 = data_2019[columns]\n"
      ],
      "metadata": {
        "id": "R1xkITk-VVjZ"
      },
      "execution_count": null,
      "outputs": []
    },
    {
      "cell_type": "code",
      "source": [
        "# Combining the datasets\n",
        "data_combined = pd.concat([data_2015, data_2016, data_2017, data_2018, data_2019], ignore_index=True)\n",
        "\n",
        "\n",
        "# Creating a new column for the route\n",
        "data_combined['Route'] = data_combined['ORIGIN'] + ' → ' + data_combined['DEST']\n",
        "\n",
        "print(\"\\nCombined Dataset Head:\")\n",
        "print(data_combined.head())"
      ],
      "metadata": {
        "id": "PbShT8YVVlBa"
      },
      "execution_count": null,
      "outputs": []
    },
    {
      "cell_type": "code",
      "source": [
        "# Creating a Route column for analysis\n",
        "data_combined['Route'] = data_combined['ORIGIN'] + ' → ' + data_combined['DEST']\n",
        "\n",
        "# Group by Route and Year to calculate metrics\n",
        "route_analysis = data_combined.groupby(['Route', 'Year']).agg(\n",
        "   avg_arr_delay=('ARR_DELAY', 'mean'),\n",
        "   flight_count=('FL_DATE', 'count')).reset_index()\n",
        "\n",
        "\n",
        "# Filter top 5 busiest routes based on flight count\n",
        "top_routes = route_analysis.groupby('Route')['flight_count'].sum().nlargest(5).index\n",
        "top_route_analysis = route_analysis[route_analysis['Route'].isin(top_routes)]"
      ],
      "metadata": {
        "id": "DQqVcqxfVspX"
      },
      "execution_count": null,
      "outputs": []
    },
    {
      "cell_type": "code",
      "source": [
        "\n",
        "top_route_analysis.to_csv('/content/top_route_analysis.csv', index=False)\n",
        "\n",
        "\n",
        "print(\"\\nTop Routes Dataset Head:\")\n",
        "print(top_route_analysis.head())"
      ],
      "metadata": {
        "id": "Yvk2bdg7V1Nf"
      },
      "execution_count": null,
      "outputs": []
    }
  ]
}